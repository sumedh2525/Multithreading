{
 "cells": [
  {
   "cell_type": "code",
   "execution_count": null,
   "id": "b9c801d7-8c9a-4630-8d6b-6b2fc1816758",
   "metadata": {},
   "outputs": [],
   "source": [
    "#  ). hat is multithreading in python? hy is it used? Name the module used to handle threads in python\n",
    "\n",
    "#  Ans:-Multithreading refers to concurrently executing multiple threads by rapidly switching the control of the CPU between threads\n",
    "#  The threading module is a high-level implementation of multithreading used to an application in Python"
   ]
  },
  {
   "cell_type": "code",
   "execution_count": null,
   "id": "5e1b664b-67a6-436e-b747-9d98c301b1f7",
   "metadata": {},
   "outputs": [],
   "source": [
    "# Q2. why threading module used? write the use of the following functions:\n",
    "# activeCount()\n",
    "# currentThread(0\n",
    "# enumerate()\n",
    "\n",
    "# Ans: Python threading allows you to have different parts of your program run concurrently and can simplify your design\n",
    "\n",
    "# threading.activeCount() − Returns the number of thread objects that are active. \n",
    "# threading.currentThread() − Returns the number of thread objects in the caller's thread control. \n",
    "# threading.enumerate() − Returns a list of all thread objects that are currently active."
   ]
  },
  {
   "cell_type": "code",
   "execution_count": 1,
   "id": "a780af14-fe40-41d0-aff4-1a5509d07f64",
   "metadata": {},
   "outputs": [],
   "source": [
    "#  3. Explain the following functions\n",
    "# run()\n",
    "# start()\n",
    "# join()\n",
    "# isAlive()\n",
    "\n",
    "\n",
    "# Ans:- run() method is an inbuilt method of the Thread class of the threading module in Python. This method is used to represent a thread's activity\n",
    "#       start() it tells you the index of the starting position of the match.\n",
    "#       join()Join in Python is an in-built method used to join an iterable's elements, separated by a string separator, which is specified by you. \n",
    "#       isAlive() It uses a Thread object, and checks whether that thread is alive or not, ie, it is still running or not.\n"
   ]
  },
  {
   "cell_type": "code",
   "execution_count": null,
   "id": "ea2b6fc9-a532-41b5-baf9-079378a9713c",
   "metadata": {},
   "outputs": [],
   "source": [
    "import threading\n",
    "\n",
    "x = [1,2,3,4,5,6,7]\n",
    "\n",
    "def square(x):\n",
    "    print(\"square: {} \" .format(x*x))\n",
    "    \n",
    "def cube(x):\n",
    "    print(\"cube: {} \" .format(x*x*x))\n",
    "    \n",
    "if __name__==\"__main__\":\n",
    "    t1 = threading.Thread(targer=print_square, args=(10,))\n",
    "    t2 = threading.Thread(target=print_cuve, args=(10,))\n",
    "    \n",
    "    t1.start()\n",
    "    t2.start()\n",
    "    \n",
    "    t1.join()\n",
    "    t2.join()\n",
    "    \n",
    "    \n",
    "    print(\"Done\")\n",
    "    \n",
    "\n",
    "    \n"
   ]
  },
  {
   "cell_type": "code",
   "execution_count": null,
   "id": "cdd08780-5038-4c8b-98ff-00f3d55e342f",
   "metadata": {},
   "outputs": [],
   "source": []
  }
 ],
 "metadata": {
  "kernelspec": {
   "display_name": "Python 3 (ipykernel)",
   "language": "python",
   "name": "python3"
  },
  "language_info": {
   "codemirror_mode": {
    "name": "ipython",
    "version": 3
   },
   "file_extension": ".py",
   "mimetype": "text/x-python",
   "name": "python",
   "nbconvert_exporter": "python",
   "pygments_lexer": "ipython3",
   "version": "3.10.8"
  }
 },
 "nbformat": 4,
 "nbformat_minor": 5
}
